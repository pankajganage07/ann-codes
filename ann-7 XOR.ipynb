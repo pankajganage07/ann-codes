{
 "cells": [
  {
   "cell_type": "markdown",
   "id": "06fc2ecd-7225-468e-8cc3-24eee7f99a1d",
   "metadata": {},
   "source": [
    "Ranjan Shitole 21123,TE AIDS , DIV A,Experimental on 7"
   ]
  },
  {
   "cell_type": "code",
   "execution_count": 1,
   "id": "e7934135",
   "metadata": {
    "ExecuteTime": {
     "end_time": "2024-04-20T13:09:20.951688Z",
     "start_time": "2024-04-20T13:09:20.689127Z"
    },
    "id": "e7934135"
   },
   "outputs": [],
   "source": [
    "import numpy as np"
   ]
  },
  {
   "cell_type": "code",
   "execution_count": 2,
   "id": "9bed97e3",
   "metadata": {
    "ExecuteTime": {
     "end_time": "2024-04-20T13:09:21.173534Z",
     "start_time": "2024-04-20T13:09:21.167393Z"
    },
    "id": "9bed97e3"
   },
   "outputs": [],
   "source": [
    "\n",
    "# Define the sigmoid activation function and its derivative\n",
    "def sigmoid(x):\n",
    "    return 1 / (1 + np.exp(-x))\n",
    "\n",
    "def sigmoid_derivative(x):\n",
    "    return x * (1 - x)"
   ]
  },
  {
   "cell_type": "code",
   "execution_count": 3,
   "id": "8581c39d",
   "metadata": {
    "ExecuteTime": {
     "end_time": "2024-04-20T13:09:21.353301Z",
     "start_time": "2024-04-20T13:09:21.346043Z"
    },
    "id": "8581c39d"
   },
   "outputs": [],
   "source": [
    "\n",
    "# Define the input and output data\n",
    "X = np.array([[0, 0], [0, 1], [1, 0], [1, 1]])\n",
    "y = np.array([[0], [1], [1], [0]])\n",
    "\n",
    "# Define the neural network architecture and initialize the weights randomly\n",
    "input_size = 2\n",
    "hidden_size = 3\n",
    "output_size = 1\n",
    "\n",
    "np.random.seed(1)\n",
    "weights1 = np.random.randn(input_size, hidden_size)\n",
    "weights2 = np.random.randn(hidden_size, output_size)\n",
    "\n",
    "# Define the training parameters\n",
    "learning_rate = 0.1\n",
    "num_iterations = 450000"
   ]
  },
  {
   "cell_type": "code",
   "execution_count": 4,
   "id": "eb4b7f03",
   "metadata": {
    "ExecuteTime": {
     "end_time": "2024-04-20T13:09:43.432553Z",
     "start_time": "2024-04-20T13:09:21.561732Z"
    },
    "id": "eb4b7f03"
   },
   "outputs": [],
   "source": [
    "\n",
    "# Train the neural network using backpropagation\n",
    "for i in range(num_iterations):\n",
    "    # Forward propagation\n",
    "    hidden_layer_activation = np.dot(X, weights1)\n",
    "    hidden_layer_output = sigmoid(hidden_layer_activation)\n",
    "    output_layer_activation = np.dot(hidden_layer_output, weights2)\n",
    "    predicted_output = sigmoid(output_layer_activation)\n",
    "    \n",
    "    \n",
    "    # Backward propagation\n",
    "    error = y - predicted_output\n",
    "    d_predicted_output = error * sigmoid_derivative(predicted_output)\n",
    "    \n",
    "    error_hidden_layer = d_predicted_output.dot(weights2.T)\n",
    "    d_hidden_layer = error_hidden_layer * sigmoid_derivative(hidden_layer_output)\n",
    "    \n",
    "    # Update the weights\n",
    "    weights2 += hidden_layer_output.T.dot(d_predicted_output) * learning_rate\n",
    "    weights1 += X.T.dot(d_hidden_layer) * learning_rate"
   ]
  },
  {
   "cell_type": "code",
   "execution_count": 5,
   "id": "c76dd668",
   "metadata": {
    "ExecuteTime": {
     "end_time": "2024-04-20T13:09:43.448303Z",
     "start_time": "2024-04-20T13:09:43.439161Z"
    },
    "id": "c76dd668"
   },
   "outputs": [],
   "source": [
    "# Test the neural network\n",
    "hidden_layer_activation = np.dot(X, weights1)\n",
    "hidden_layer_output = sigmoid(hidden_layer_activation)\n",
    "output_layer_activation = np.dot(hidden_layer_output, weights2)\n",
    "predicted_output = sigmoid(output_layer_activation)"
   ]
  },
  {
   "cell_type": "code",
   "execution_count": 6,
   "id": "e2f9565d",
   "metadata": {
    "ExecuteTime": {
     "end_time": "2024-04-20T13:09:43.460438Z",
     "start_time": "2024-04-20T13:09:43.452200Z"
    },
    "colab": {
     "base_uri": "https://localhost:8080/"
    },
    "id": "e2f9565d",
    "outputId": "50d1a1b5-8238-4ffc-c297-efbe90f96c11"
   },
   "outputs": [
    {
     "name": "stdout",
     "output_type": "stream",
     "text": [
      "[[0]\n",
      " [1]\n",
      " [1]\n",
      " [0]]\n"
     ]
    }
   ],
   "source": [
    "# Modify the predicted output based on a threshold value\n",
    "threshold = 0.20 #the threshold should be between 0.55 - 0.8 to get the output\n",
    "predicted_output = np.where(predicted_output > threshold, 1, 0)\n",
    "\n",
    "print(predicted_output)"
   ]
  },
  {
   "cell_type": "code",
   "execution_count": null,
   "id": "4ed439eb31a42de8",
   "metadata": {},
   "outputs": [],
   "source": []
  },
  {
   "cell_type": "code",
   "execution_count": null,
   "id": "5b62e954-12d9-4ae4-9de0-43a3b335f884",
   "metadata": {},
   "outputs": [],
   "source": []
  }
 ],
 "metadata": {
  "colab": {
   "provenance": []
  },
  "kernelspec": {
   "display_name": "Python 3 (ipykernel)",
   "language": "python",
   "name": "python3"
  },
  "language_info": {
   "codemirror_mode": {
    "name": "ipython",
    "version": 3
   },
   "file_extension": ".py",
   "mimetype": "text/x-python",
   "name": "python",
   "nbconvert_exporter": "python",
   "pygments_lexer": "ipython3",
   "version": "3.11.7"
  }
 },
 "nbformat": 4,
 "nbformat_minor": 5
}
