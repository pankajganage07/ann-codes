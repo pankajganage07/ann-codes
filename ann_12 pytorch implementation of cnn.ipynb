{
 "nbformat": 4,
 "nbformat_minor": 0,
 "metadata": {
  "colab": {
   "provenance": []
  },
  "kernelspec": {
   "name": "python3",
   "display_name": "Python 3 (ipykernel)",
   "language": "python"
  },
  "language_info": {
   "name": "python"
  }
 },
 "cells": [
  {
   "cell_type": "code",
   "source": [
    "\n",
    "import numpy as np\n",
    "import tensorflow as tf\n",
    "import matplotlib.pyplot as plt\n",
    "from sklearn.linear_model import Perceptron\n",
    "from sklearn.datasets import make_classification\n",
    "from sklearn.neural_network import MLPClassifier\n",
    "\n",
    "class CNNModel:\n",
    "    def __init__(self, num_classes):\n",
    "        self.num_classes = num_classes\n",
    "        self.model = self.build_model()\n",
    "\n",
    "    def build_model(self):\n",
    "        model = tf.keras.Sequential([\n",
    "            tf.keras.layers.Conv2D(32, (3, 3), activation='relu', input_shape=(32, 32, 3)),\n",
    "            tf.keras.layers.MaxPooling2D((2, 2)),\n",
    "            tf.keras.layers.Conv2D(64, (3, 3), activation='relu'),\n",
    "            tf.keras.layers.MaxPooling2D((2, 2)),\n",
    "            tf.keras.layers.Flatten(),\n",
    "            tf.keras.layers.Dense(64, activation='relu'),\n",
    "            tf.keras.layers.Dense(self.num_classes, activation='softmax')\n",
    "        ])\n",
    "        return model\n",
    "\n",
    "    def train(self, X_train, y_train, epochs=10, batch_size=128):\n",
    "        self.model.compile(optimizer='adam', loss='sparse_categorical_crossentropy', metrics=['accuracy'])\n",
    "        self.model.fit(X_train, y_train, epochs=epochs, batch_size=batch_size)\n",
    "\n",
    "    def evaluate(self, X_test, y_test):\n",
    "        loss, accuracy = self.model.evaluate(X_test, y_test)\n",
    "        print(\"Test Loss:\", loss)\n",
    "        print(\"Test Accuracy:\", accuracy)\n",
    "\n",
    "    def predict(self, X):\n",
    "        return self.model.predict(X)\n",
    "\n",
    "(X_train, y_train), (X_test, y_test) = tf.keras.datasets.cifar10.load_data()\n",
    "\n",
    "X_train = X_train / 255.0\n",
    "X_test = X_test / 255.0\n",
    "\n",
    "num_classes = 10\n",
    "cnn_model = CNNModel(num_classes)\n",
    "cnn_model.train(X_train, y_train, epochs=2, batch_size=32)\n",
    "cnn_model.evaluate(X_test, y_test)\n",
    "predictions = cnn_model.predict(X_test)\n"
   ],
   "metadata": {
    "id": "jOYkbezn5rJi",
    "colab": {
     "base_uri": "https://localhost:8080/"
    },
    "outputId": "ed298502-be0a-4b07-b1c9-3267021af2b2",
    "ExecuteTime": {
     "end_time": "2024-04-20T13:09:59.933405Z",
     "start_time": "2024-04-20T13:04:06.385210Z"
    }
   },
   "outputs": [
    {
     "name": "stdout",
     "output_type": "stream",
     "text": [
      "Downloading data from https://www.cs.toronto.edu/~kriz/cifar-10-python.tar.gz\n",
      "\u001B[1m170498071/170498071\u001B[0m \u001B[32m━━━━━━━━━━━━━━━━━━━━\u001B[0m\u001B[37m\u001B[0m \u001B[1m292s\u001B[0m 2us/step\n"
     ]
    },
    {
     "name": "stderr",
     "output_type": "stream",
     "text": [
      "/opt/anaconda3/lib/python3.11/site-packages/keras/src/layers/convolutional/base_conv.py:99: UserWarning: Do not pass an `input_shape`/`input_dim` argument to a layer. When using Sequential models, prefer using an `Input(shape)` object as the first layer in the model instead.\n",
      "  super().__init__(\n"
     ]
    },
    {
     "name": "stdout",
     "output_type": "stream",
     "text": [
      "Epoch 1/2\n",
      "\u001B[1m1563/1563\u001B[0m \u001B[32m━━━━━━━━━━━━━━━━━━━━\u001B[0m\u001B[37m\u001B[0m \u001B[1m24s\u001B[0m 15ms/step - accuracy: 0.3686 - loss: 1.7207\n",
      "Epoch 2/2\n",
      "\u001B[1m1563/1563\u001B[0m \u001B[32m━━━━━━━━━━━━━━━━━━━━\u001B[0m\u001B[37m\u001B[0m \u001B[1m22s\u001B[0m 14ms/step - accuracy: 0.5933 - loss: 1.1603\n",
      "\u001B[1m313/313\u001B[0m \u001B[32m━━━━━━━━━━━━━━━━━━━━\u001B[0m\u001B[37m\u001B[0m \u001B[1m2s\u001B[0m 5ms/step - accuracy: 0.6509 - loss: 1.0349\n",
      "Test Loss: 1.0444090366363525\n",
      "Test Accuracy: 0.6413999795913696\n",
      "\u001B[1m313/313\u001B[0m \u001B[32m━━━━━━━━━━━━━━━━━━━━\u001B[0m\u001B[37m\u001B[0m \u001B[1m1s\u001B[0m 5ms/step\n"
     ]
    }
   ],
   "execution_count": 1
  },
  {
   "metadata": {
    "ExecuteTime": {
     "end_time": "2024-04-20T13:10:30.177564Z",
     "start_time": "2024-04-20T13:10:30.164770Z"
    }
   },
   "cell_type": "code",
   "source": "predictions\n",
   "outputs": [
    {
     "data": {
      "text/plain": [
       "array([[2.4771882e-02, 1.2272423e-03, 3.2324482e-02, ..., 7.7856020e-03,\n",
       "        3.9507303e-02, 4.4731065e-03],\n",
       "       [5.9822902e-02, 1.2049080e-01, 1.8319105e-04, ..., 1.0613559e-05,\n",
       "        8.1301707e-01, 6.4111203e-03],\n",
       "       [8.8744536e-02, 2.9629171e-01, 1.5458654e-02, ..., 4.4448948e-03,\n",
       "        5.1059484e-01, 4.5328651e-02],\n",
       "       ...,\n",
       "       [1.5559922e-03, 2.1649619e-04, 7.1486838e-02, ..., 9.3817964e-02,\n",
       "        4.9380149e-04, 2.4236392e-03],\n",
       "       [2.2287926e-02, 2.0963319e-01, 7.5808158e-03, ..., 2.9994980e-02,\n",
       "        1.1153311e-03, 4.2437157e-03],\n",
       "       [5.9051969e-04, 5.6460954e-04, 5.3077633e-03, ..., 9.2445880e-01,\n",
       "        1.2449471e-04, 7.4315048e-04]], dtype=float32)"
      ]
     },
     "execution_count": 2,
     "metadata": {},
     "output_type": "execute_result"
    }
   ],
   "execution_count": 2
  },
  {
   "metadata": {},
   "cell_type": "code",
   "outputs": [],
   "execution_count": null,
   "source": ""
  }
 ]
}
