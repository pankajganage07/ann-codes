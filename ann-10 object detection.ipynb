{
 "cells": [
  {
   "cell_type": "markdown",
   "id": "a67d36a5-c9a1-4521-bfa4-f04de3f68286",
   "metadata": {},
   "source": [
    "Ranjan Shitole 21123,TE AIDS , DIV A,Experimental on 10"
   ]
  },
  {
   "cell_type": "code",
   "execution_count": 6,
   "id": "aaa53ce3",
   "metadata": {},
   "outputs": [
    {
     "name": "stdout",
     "output_type": "stream",
     "text": [
      "\u001b[1m1/1\u001b[0m \u001b[32m━━━━━━━━━━━━━━━━━━━━\u001b[0m\u001b[37m\u001b[0m \u001b[1m1s\u001b[0m 546ms/step\n",
      "snorkel: 15.251559019088745%\n",
      "bathing_cap: 9.823308140039444%\n",
      "killer_whale: 8.913475275039673%\n",
      "sea_lion: 6.0219865292310715%\n",
      "maillot: 5.971631035208702%\n"
     ]
    }
   ],
   "source": [
    "import tensorflow as tf\n",
    "\n",
    "# Load MobileNetV2 model pre-trained on ImageNet\n",
    "model = tf.keras.applications.MobileNetV2(weights='imagenet')\n",
    "\n",
    "# Load image and preprocess it\n",
    "image_path = \"/Users/ranjanshahajishitole/Desktop/ann-practicals-main/download.jpg\"\n",
    "image = tf.keras.preprocessing.image.load_img(image_path, target_size=(224, 224))\n",
    "image = tf.keras.preprocessing.image.img_to_array(image)\n",
    "image = tf.keras.applications.mobilenet_v2.preprocess_input(image)\n",
    "image = tf.expand_dims(image, axis=0)\n",
    "\n",
    "# Run object detection\n",
    "predictions = model.predict(image)\n",
    "\n",
    "# Decode predictions\n",
    "decoded_predictions = tf.keras.applications.mobilenet_v2.decode_predictions(predictions)\n",
    "\n",
    "# Print top predicted objects\n",
    "for _, label, confidence in decoded_predictions[0]:\n",
    "    print(f\"{label}: {confidence * 100}%\")\n"
   ]
  },
  {
   "cell_type": "code",
   "execution_count": null,
   "id": "c64793aa-0be9-419f-bb35-e8567ea9138a",
   "metadata": {},
   "outputs": [],
   "source": []
  }
 ],
 "metadata": {
  "kernelspec": {
   "display_name": "Python 3 (ipykernel)",
   "language": "python",
   "name": "python3"
  },
  "language_info": {
   "codemirror_mode": {
    "name": "ipython",
    "version": 3
   },
   "file_extension": ".py",
   "mimetype": "text/x-python",
   "name": "python",
   "nbconvert_exporter": "python",
   "pygments_lexer": "ipython3",
   "version": "3.11.7"
  }
 },
 "nbformat": 4,
 "nbformat_minor": 5
}
